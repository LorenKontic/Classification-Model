{
 "cells": [
  {
   "cell_type": "markdown",
   "id": "fd3ba9b5-a6f6-422f-a2d9-7a745ceab259",
   "metadata": {},
   "source": [
    "## Opis projekta"
   ]
  },
  {
   "cell_type": "markdown",
   "id": "ac526fa7-4154-493e-923c-3781fdd5abcc",
   "metadata": {},
   "source": [
    "Na web forumu bitcointalk.org pod sekcijom \"Bitcoin Discussion\" se svakodnevno objavljuju teme za raspravu od strane\n",
    "raznih korisnika istog foruma. Pretpostavka je da će broj objavljenih tema na dnvenoj bazi kao i da će rezultati analize sentimenata teksta tih tema dati povratnu informaciju o javnom interesu za Bitcoin kriptovalutom. Tekst tema kao i datum objave teme iz navedenog foruma ostrugati (eng.scrape) će se pomoću BeautfulSoup i requests biblioteka.\n",
    "Analiza sentimenta teksta objavljenih tema vršiti će se upotrebom Transformes bilbioteke, točinije njezinog osnovnog deep learning modela za klasifikaciju teksta naziva \"sentiment-analysis\".\n",
    "Rezultati analize sentimenta teksta poslužiti će kao dio ulaznog seta podataka s pretpostavkom da će poboljšati uspješnost modela u predviđanju rasta ili pada cijene Bitcoina na dnevnoj bazi."
   ]
  },
  {
   "cell_type": "code",
   "execution_count": 1,
   "id": "b8b16e60",
   "metadata": {},
   "outputs": [],
   "source": [
    "import requests\n",
    "from bs4 import BeautifulSoup\n",
    "import pandas as pd\n",
    "import datetime\n",
    "import re\n",
    "\n",
    "subject=[]\n",
    "dat=[]\n",
    "for i in range(0,25000,40):\n",
    "    # svaka stranica ima url pomaknut za 40 gledajući znak poslje ...board=1.\n",
    "    # 1. str ima ...board=1.0, 2. str....board=1.40 ...\n",
    "    url = f'https://bitcointalk.org/index.php?board=1.{i}'\n",
    "    page = requests.get(url).text\n",
    "    soup = BeautifulSoup(page, 'html.parser')\n",
    "    \n",
    "    date_element= soup.find_all(class_='windowbg2 lastpostcol')\n",
    "    posts = soup.find_all(class_='windowbg') \n",
    "    # find_all funkcija vraća listu elemenata iz kojih se izvlači datum \n",
    "    for date in date_element:\n",
    "        # 2 elementa liste spremljna u jednu str varijablu\n",
    "        date=str(list(date.descendants)[5:7])\n",
    "        # ako element ima više od 20 znakova sadrži poni datum i vrijeme\n",
    "        if len(date)>20:\n",
    "            date=date[20:]\n",
    "            # search funkcija za pronalazak datuma (npr. February 22, 2023)\n",
    "            # REGEX:\n",
    "            # veliko 1.slovo: [A-Z]\n",
    "            # 2-8 malih slova: [a-z]{2,8}\n",
    "            # \\s:  razmak(whitespace)\n",
    "            # dan:  \\d{2}\n",
    "            # zarez: \\,\n",
    "            # godina: \\d{4}          \n",
    "            date=re.search('^[A-Z][a-z]{2,8}\\s\\d{2}\\,\\s\\d{4}',date).group(0)\n",
    "            #datum sadrži zarez(,) potrebno ga je ukloniti sub funkcijom\n",
    "            date=re.sub(\"\\,\", \"\", date)\n",
    "        # ako ne, radi se o oznaci današnjeg datuma //n...<b>Today<b>\n",
    "        else:\n",
    "            #pri čemu se koristi datetime bibliteka za definiranje\n",
    "            # današnjeg datuma u istom obliku \n",
    "            date=datetime.datetime.now().strftime(\"%B %d %Y\")\n",
    "        dat.append(date)\n",
    "    # prolaz kroz svaki element klase 'windowbg'\n",
    "    for post in posts:\n",
    "        text=post.find('a')\n",
    "        # pošto su neki elementi za izlaz daju \"None\" vrijednost\n",
    "        try:\n",
    "            text=text.string\n",
    "        # ako je text=None samo nastavi\n",
    "        except:\n",
    "            continue\n",
    "        # dodaj text varijablu u subject listu \n",
    "        subject.append(text)\n",
    "        \n",
    "# dat i subject liste se pretvarju u Series stupce\n",
    "# zbog potrebe spajanja u tablicu naredbom concat\n",
    "dat=pd.Series(dat)\n",
    "# 1. stranica daje jedan element None viška, pa se počinje od 2. reda\n",
    "# kako bi bili datumi usklađeni s temama koje su objavljene na taj datum\n",
    "subject=subject[1:]\n",
    "subject=pd.Series(subject)\n",
    "\n",
    "df=pd.concat({\"Date\": dat ,\"subject\": subject}, axis=1)\n",
    "df=df.iloc[3:]"
   ]
  },
  {
   "cell_type": "code",
   "execution_count": null,
   "id": "5ee8897a-5296-4204-bbe3-0d5c0fe7f521",
   "metadata": {},
   "outputs": [],
   "source": [
    "# provjera jesu li svi datumi točno ispisani\n",
    "for i in range(2300,500,-150):\n",
    "    print(df.Date[i])"
   ]
  },
  {
   "cell_type": "code",
   "execution_count": 6,
   "id": "c7dcb826",
   "metadata": {},
   "outputs": [],
   "source": [
    "import time\n",
    "# od 3 jer tablica počinje od 3 indexa do len +3 \n",
    "for i in range(3,len(df.Date)+3):\n",
    "    # najprije u time.struct_time touple format\n",
    "    df.Date[i]=time.strptime(df.Date[i],\"%B %d %Y\")\n",
    "    # pa u %Y-%m-%d format\n",
    "    df.Date[i]=time.strftime(\"%Y-%m-%d\",df.Date[i])"
   ]
  },
  {
   "cell_type": "code",
   "execution_count": 7,
   "id": "63fe6eb1",
   "metadata": {},
   "outputs": [],
   "source": [
    "df=df.set_index('Date')"
   ]
  },
  {
   "cell_type": "code",
   "execution_count": 8,
   "id": "d941d779",
   "metadata": {},
   "outputs": [],
   "source": [
    "df=df.iloc[::-1]"
   ]
  },
  {
   "cell_type": "code",
   "execution_count": 9,
   "id": "a146bc67",
   "metadata": {},
   "outputs": [],
   "source": [
    "# potrebno je opet zadati brojevne indexe jer ako su\n",
    "#datumi postavljeni za index stupac ne prepoznaju se \n",
    "# kao zasebni stupac\n",
    "df=df.reset_index()"
   ]
  },
  {
   "cell_type": "code",
   "execution_count": 79,
   "id": "1c570d72",
   "metadata": {},
   "outputs": [],
   "source": [
    "# pretvaranje dobivene tablice u listu\n",
    "df_list = df.to_dict('records')"
   ]
  },
  {
   "cell_type": "markdown",
   "id": "2c885e59-0476-4b5a-965c-be6fa0511c60",
   "metadata": {},
   "source": [
    "#### postavljanje datuma kao glavnog ključa koji sadrži listu tema za taj dan"
   ]
  },
  {
   "cell_type": "code",
   "execution_count": null,
   "id": "0c97e3f5",
   "metadata": {},
   "outputs": [],
   "source": [
    "teme={}\n",
    "for dic in df_list:\n",
    "    datum=dic[\"Date\"]\n",
    "    if datum not in teme:\n",
    "        teme[datum]=dict(teme_list=list())\n",
    "    tema=dic[\"subject\"]\n",
    "    teme[datum][\"teme_list\"].append(tema)"
   ]
  },
  {
   "cell_type": "code",
   "execution_count": 89,
   "id": "b5b6b531",
   "metadata": {},
   "outputs": [],
   "source": [
    "#teme"
   ]
  },
  {
   "cell_type": "markdown",
   "id": "547a3b30-04cb-459d-a09e-e77126c21fd6",
   "metadata": {},
   "source": [
    "### Uvoz bilblioteke Transformers\n",
    "* modul `pipeline` omogućuje upotrebu osnovnog deep learning modela za analizu teksta\n",
    "* deep learning model `sentiment-analysis` analizira tekst i vraća rezulte u brojevnom obliku\n",
    "* ključevi dict-a su `label` koji za vrijednost ima polaritet (Positive/Negative) i score koji označuje rezultat od 0-1 i "
   ]
  },
  {
   "cell_type": "code",
   "execution_count": 91,
   "id": "2dfe4f1a",
   "metadata": {},
   "outputs": [
    {
     "name": "stderr",
     "output_type": "stream",
     "text": [
      "No model was supplied, defaulted to distilbert-base-uncased-finetuned-sst-2-english and revision af0f99b (https://huggingface.co/distilbert-base-uncased-finetuned-sst-2-english).\n",
      "Using a pipeline without specifying a model name and revision in production is not recommended.\n"
     ]
    }
   ],
   "source": [
    "from transformers import pipeline\n",
    "sent_pipeline = pipeline(\"sentiment-analysis\")"
   ]
  },
  {
   "cell_type": "markdown",
   "id": "f0539332-594e-4c2c-9b2a-4af5bb4d9766",
   "metadata": {},
   "source": [
    "#### Izrada funkcije za analizu komentara\n",
    "* Ako je uneseni tekst unutar modela pozitvno orijetitan poput \"like\", \"great\", \"rise\", `label` će biti `POSITIVE`\n",
    "* Tekst poput \"hate\", \"collapse\", \"fallout\" će vratit vrijednost label ključa `NEGATIVE`  \n",
    "* Na osnovu tih vrijednosti se izrađuje funkcija koja ako je label NEGATIVE vraća negativnu vrijednost rezultata\n",
    "* analiziranje teksta staje na 100 znakova unesenog teksta (`tekst[:100]`) kako bi se funkcija izvršila u što kraćem roku, što ubrzava izvođenje daljnjeg programskog koda \n",
    "* index [0] se postavlja jer je sentiment_piline vraća dictonary unutar liste, 0 je prvi element liste"
   ]
  },
  {
   "cell_type": "code",
   "execution_count": null,
   "id": "78610244",
   "metadata": {},
   "outputs": [],
   "source": [
    "def analiza_sent(tekst):\n",
    "    tema=sent_pipeline(tekst[:100])[0]\n",
    "    rezultat=tema[\"score\"]\n",
    "    polaritet=tema[\"label\"]\n",
    "    if polaritet==\"NEGATIVE\":\n",
    "        rezultat*=-1\n",
    "    return rezultat"
   ]
  },
  {
   "cell_type": "code",
   "execution_count": null,
   "id": "370a6b59",
   "metadata": {},
   "outputs": [],
   "source": [
    "rez_transf={}\n",
    "for dat in teme:\n",
    "    lista_tema = teme[dat][\"teme_list\"]\n",
    "    rez_transf[dat]=dict(broj_tema=len(lista_tema), rezultati=list())\n",
    "    for tema in lista_tema:\n",
    "        rez_transf[dat][\"rezultati\"].append(analiza_sent(tema))"
   ]
  },
  {
   "cell_type": "code",
   "execution_count": null,
   "id": "71746e17",
   "metadata": {},
   "outputs": [],
   "source": [
    "# funkcije za odvajanje pozitvinih od negativnih komentara\n",
    "def pozitivni(lista):\n",
    "    poz=[]\n",
    "    for br in lista:\n",
    "        if br >= 0:\n",
    "            poz.append(br)\n",
    "    return poz\n",
    "\n",
    "def negativni(lista):\n",
    "    neg=[]\n",
    "    for br in lista:\n",
    "        if br < 0:\n",
    "            neg.append(br)\n",
    "    return neg"
   ]
  },
  {
   "cell_type": "code",
   "execution_count": 96,
   "id": "0cff57a8",
   "metadata": {},
   "outputs": [],
   "source": [
    "end_transf={}\n",
    "\n",
    "for k in rez_transf:\n",
    "    rez=rez_transf[k][\"rezultati\"]\n",
    "    end_transf[k]=dict(broj_tema=rez_transf[k][\"broj_tema\"],avg_rezultata=float,\n",
    "                       posto_poz=float,posto_neg=float)\n",
    "    end_k=end_transf[k]\n",
    "    end_k[\"avg_rezultata\"]=sum(rez)/len(rez) \n",
    "    end_k[\"posto_poz\"]=len(pozitivni(rez))/len(rez)\n",
    "    end_k[\"posto_neg\"]=len(negativni(rez))/len(rez)"
   ]
  },
  {
   "cell_type": "code",
   "execution_count": 97,
   "id": "105251ad-8245-4f52-8aed-5500b2aa70d1",
   "metadata": {},
   "outputs": [],
   "source": [
    "#end_transf"
   ]
  },
  {
   "cell_type": "markdown",
   "id": "214389c6-9d54-433d-b585-42197bf12081",
   "metadata": {},
   "source": [
    "## Prebacivanje rezultata u pandas df"
   ]
  },
  {
   "cell_type": "code",
   "execution_count": null,
   "id": "802b1e89",
   "metadata": {},
   "outputs": [],
   "source": [
    "# pretvarnje end_transf dictionary-a u tablicu\n",
    "df_transf=pd.DataFrame.from_dict(end_transf,orient=\"index\")"
   ]
  },
  {
   "cell_type": "code",
   "execution_count": 103,
   "id": "d38b6cb3",
   "metadata": {},
   "outputs": [],
   "source": [
    "# Postavljanje datetime index-a\n",
    "df_transf.index=pd.to_datetime(df_transf.index)"
   ]
  },
  {
   "cell_type": "code",
   "execution_count": 104,
   "id": "74ea3d90-7527-4c5a-b36b-81ced2e10bbf",
   "metadata": {},
   "outputs": [],
   "source": [
    "# definiranje varijble koja će postati novi index\n",
    "# postavljnje početnog i završnog datuma\n",
    "datumi=pd.date_range(start=\"10-09-2017\",end=\"01-23-2023\")"
   ]
  },
  {
   "cell_type": "code",
   "execution_count": 105,
   "id": "6e4c134f-714d-4cd6-ac56-1cde7b420d58",
   "metadata": {},
   "outputs": [],
   "source": [
    "# reindeksirenje i ispunjavanje nepostojećih datuma s vrijednostima 0\n",
    "df_reindex=df_transf.reindex(datumi,fill_value=0)"
   ]
  },
  {
   "cell_type": "code",
   "execution_count": 1,
   "id": "308f0696-226c-4c7e-ad57-86a5be04ba3d",
   "metadata": {},
   "outputs": [],
   "source": [
    "# provjera ineksa koji su dodani pri reindeksiranju\n",
    "null=[]\n",
    "for i in range(len(df_reindex)):\n",
    "    if df_reindex[\"broj_kom\"].iloc[i]==0:\n",
    "        null.append(i)\n",
    "\n",
    "print(f\"Index vrijednosti nula = {null}\")"
   ]
  },
  {
   "cell_type": "code",
   "execution_count": null,
   "id": "45e39511",
   "metadata": {},
   "outputs": [],
   "source": [
    "# upotreba rolling funkcije za pronalazak srednje vrijednosti posljednjih 7 dana\n",
    "rolling_transf=df_reindex.rolling(7).mean()"
   ]
  },
  {
   "cell_type": "code",
   "execution_count": 205,
   "id": "1beb8bad",
   "metadata": {},
   "outputs": [],
   "source": [
    "# izbacivanje NaN vrijednosti koje su kreirane rolling funkcijom\n",
    "rolling_transf=rolling_transf.dropna()"
   ]
  },
  {
   "cell_type": "code",
   "execution_count": 205,
   "id": "1d09f3d8",
   "metadata": {},
   "outputs": [],
   "source": [
    "# Prebacivanje konačne tablice u .csv dokument\n",
    "rolling_transf.to_csv(\"Transf_roll7.csv\")"
   ]
  },
  {
   "cell_type": "markdown",
   "id": "c122e9f2-b40c-4ab0-8649-798719508b67",
   "metadata": {},
   "source": [
    "### Upotreba funkcije rolling\n",
    "* rolling omogućje izračun srednje vrijednosti podataka u posljednjih 7 dana srednja vrijednost od 1. do 7. reda zapisan je u 7. red, 8 red ima zapisanu srednju vrijednost od 2. do 8. reda i tako do kraj tablice\n",
    "* prvih 7 redova ima NaN vrijednosti je nemaju prethodnih podataka za izračun pa ih je potrebno ukloniti"
   ]
  }
 ],
 "metadata": {
  "kernelspec": {
   "display_name": "Python 3 (ipykernel)",
   "language": "python",
   "name": "python3"
  },
  "language_info": {
   "codemirror_mode": {
    "name": "ipython",
    "version": 3
   },
   "file_extension": ".py",
   "mimetype": "text/x-python",
   "name": "python",
   "nbconvert_exporter": "python",
   "pygments_lexer": "ipython3",
   "version": "3.9.13"
  }
 },
 "nbformat": 4,
 "nbformat_minor": 5
}
