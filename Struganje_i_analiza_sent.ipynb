{
 "cells": [
  {
   "cell_type": "markdown",
   "id": "fd3ba9b5-a6f6-422f-a2d9-7a745ceab259",
   "metadata": {},
   "source": [
    "## Opis projekta"
   ]
  },
  {
   "cell_type": "markdown",
   "id": "ac526fa7-4154-493e-923c-3781fdd5abcc",
   "metadata": {},
   "source": [
    "Na web forumu bitcointalk.org pod sekcijom \"Bitcoin Discussion\" se svakodnevno objavljuju teme za raspravu od strane\n",
    "raznih korisnika istog foruma. Pretpostavka je da će broj objavljenih tema na dnvenoj bazi kao i da će rezultati analize sentimenata teksta tih tema dati povratnu informaciju o javnom interesu za Bitcoin kriptovalutom. Tekst tema kao i datum objave teme iz navedenog foruma ostrugati (eng.scrape) će se pomoću BeautfulSoup i requests biblioteka.\n",
    "Analiza sentimenta teksta objavljenih tema izvršiti će se upotrebom Transformes bilbioteke, točinije njezinog osnovnog deep learning modela za klasifikaciju teksta naziva \"sentiment-analysis\".\n",
    "Rezultati analize sentimenta teksta poslužiti će kao dio ulaznog seta podataka s pretpostavkom da će poboljšati uspješnost modela u predviđanju rasta ili pada cijene Bitcoina na dnevnoj bazi."
   ]
  },
  {
   "cell_type": "code",
   "execution_count": 1,
   "id": "5a3b20b4",
   "metadata": {},
   "outputs": [],
   "source": [
    "# !pip install transformes\n",
    "# !pip install pandas\n",
    "# !pip install requests\n",
    "# !pip install bs4\n",
    "# !pip install datetime"
   ]
  },
  {
   "cell_type": "code",
   "execution_count": 2,
   "id": "a188a7e2",
   "metadata": {},
   "outputs": [],
   "source": [
    "import requests\n",
    "from bs4 import BeautifulSoup\n",
    "import pandas as pd\n",
    "import datetime\n",
    "import re"
   ]
  },
  {
   "cell_type": "markdown",
   "id": "fcbd7659",
   "metadata": {},
   "source": [
    "### scrape_url - scrapes url and returns board number of forum page for target dates"
   ]
  },
  {
   "cell_type": "code",
   "execution_count": 3,
   "id": "f7da6691",
   "metadata": {
    "scrolled": true
   },
   "outputs": [],
   "source": [
    "def scrape_url(board_num,top_page_list_el,end_date):\n",
    "    \"\"\"board_num-f'https://bitcointalk.org/index.php?board=1.{board_num}'\n",
    "        top_page_list_el - top_pages_list[top_page_list_el:top_page_list_el+1]\n",
    "        end_date - ex.:\"10-09-2023\"(mm-dd-yyyy)\n",
    "    \"\"\"\n",
    "    #board_num=27440\n",
    "    # Scrape which page is last, after ...page_number\n",
    "    url = f'https://bitcointalk.org/index.php?board=1.{board_num}'\n",
    "    page = requests.get(url).text\n",
    "    soup = BeautifulSoup(page, 'html.parser')\n",
    "    top_pages_list = soup.find_all(class_='navPages')\n",
    "    a_element = str(top_pages_list[top_page_list_el:top_page_list_el+1])\n",
    "    # group(1)- for numbers\n",
    "    page_num = re.search(r'>(\\d+)<',a_element).group(1)\n",
    "    # <a class=\"navPages\" href=\"https://bitcointalk.org/index.php?board=1.27560\">690</a>\n",
    "    # Regex pattern to extract URL\n",
    "    pattern = r'href=\"([^\"]*)\"'\n",
    "\n",
    "    # Find all matches\n",
    "    matches = re.findall(pattern, a_element)\n",
    "\n",
    "    # Extract the URL from the first match\n",
    "    if matches:\n",
    "        scraped_url = matches[0]\n",
    "        print(f\"Extracted URL for page {page_num}:\", scraped_url)\n",
    "    else:\n",
    "        print(\"No URL found in the given string.\")\n",
    "        return\n",
    "\n",
    "    # Visit the scraped URL\n",
    "    page = requests.get(scraped_url).text\n",
    "    soup = BeautifulSoup(page, 'html.parser')\n",
    "\n",
    "    # Find date elements\n",
    "    date_elements = soup.find_all(class_='windowbg2 lastpostcol')\n",
    "    \n",
    "    \n",
    "    # Convert the one year ago date to the format of month and day\n",
    "    target_date = datetime.datetime.strptime(end_date, '%m-%d-%Y')\n",
    "    \n",
    "    #datumi=pd.date_range(start=\"10-09-2017\",end=\"01-23-2023\")\n",
    "    #for date in date_elements:\n",
    "    # reverse list iteration : start(len(date_elements)-1:last el(0-1):step(-1))\n",
    "    for i in range(len(date_elements)-1,-1,-1):\n",
    "        date = date_elements[i]\n",
    "        # Convert the date element to string and extract the date\n",
    "        date_str = str(list(date.descendants)[5:7])\n",
    "\n",
    "        # If the date string has more than 20 characters, it contains the full date and time\n",
    "        if len(date_str) > 20:\n",
    "            date_str = date_str[20:]\n",
    "            scraped_date=re.search('^[A-Z][a-z]{2,8}\\s\\d{2}\\,\\s\\d{4}',date_str).group(0)\n",
    "            scraped_date = re.sub(\"\\,\", \"\", scraped_date)\n",
    "            parsed_date = datetime.datetime.strptime(scraped_date, \"%B %d %Y\")\n",
    "          \n",
    "            \n",
    "        # If the date \n",
    "        if parsed_date > target_date:\n",
    "            return scrape_url(board_num,top_page_list_el+1,end_date) \n",
    "        elif i == 0 and parsed_date < target_date:\n",
    "            return scrape_url(board_num,top_page_list_el-1,end_date)\n",
    "        # If the date matches, scrape the URL\n",
    "        elif parsed_date == target_date:\n",
    "            print(\"Date matches. Scraping URL...\")\n",
    "            print(f\"URL scraped from {target_date.day}/{target_date.month}/{target_date.year}:\", scraped_url)\n",
    "            board_num = int(re.search(r'board=1.(\\d+)',scraped_url).group(1))\n",
    "            return board_num\n",
    "\n",
    "    return None"
   ]
  },
  {
   "cell_type": "code",
   "execution_count": 4,
   "id": "b8b16e60",
   "metadata": {},
   "outputs": [
    {
     "name": "stdout",
     "output_type": "stream",
     "text": [
      "Extracted URL for page 77: https://bitcointalk.org/index.php?board=1.3040\n",
      "Date matches. Scraping URL...\n",
      "URL scraped from 23/1/2023: https://bitcointalk.org/index.php?board=1.3040\n",
      "Extracted URL for page 690: https://bitcointalk.org/index.php?board=1.27560\n",
      "Date matches. Scraping URL...\n",
      "URL scraped from 9/10/2017: https://bitcointalk.org/index.php?board=1.27560\n"
     ]
    }
   ],
   "source": [
    "import requests\n",
    "from bs4 import BeautifulSoup\n",
    "import pandas as pd\n",
    "import datetime\n",
    "import re\n",
    "\n",
    "subject=[]\n",
    "dat=[]\n",
    "first_board = scrape_url(3160,49,\"01-23-2023\")\n",
    "last_board = scrape_url(27440,54,\"10-09-2017\")\n",
    "\n",
    "for i in range(first_board,last_board,40):\n",
    "    # svaka stranica ima url pomaknut za 40 gledajući znak poslje ...board=1.\n",
    "    # 1. str ima ...board=1.0, 2. str....board=1.40 ...\n",
    "    url = f'https://bitcointalk.org/index.php?board=1.{i}'\n",
    "    page = requests.get(url).text\n",
    "    soup = BeautifulSoup(page, 'html.parser')\n",
    "    \n",
    "    date_element= soup.find_all(class_='windowbg2 lastpostcol')\n",
    "    posts = soup.find_all(class_='windowbg') \n",
    "    # find_all funkcija vraća listu elemenata iz kojih se izvlači datum \n",
    "    for date in date_element:\n",
    "        # 2 elementa liste spremljna u jednu str varijablu\n",
    "        date=str(list(date.descendants)[5:7])\n",
    "        # ako element ima više od 20 znakova sadrži poni datum i vrijeme\n",
    "        if len(date)>20:\n",
    "            date=date[20:]\n",
    "            # search funkcija za pronalazak datuma (npr. February 22, 2023)\n",
    "            # REGEX:\n",
    "            # veliko 1.slovo: [A-Z]\n",
    "            # 2-8 malih slova: [a-z]{2,8}\n",
    "            # \\s:  razmak(whitespace)\n",
    "            # dan:  \\d{2}\n",
    "            # zarez: \\,\n",
    "            # godina: \\d{4}          \n",
    "            date=re.search('^[A-Z][a-z]{2,8}\\s\\d{2}\\,\\s\\d{4}',date).group(0)\n",
    "            #datum sadrži zarez(,) potrebno ga je ukloniti sub funkcijom\n",
    "            date=re.sub(\"\\,\", \"\", date)\n",
    "        # ako ne, radi se o oznaci današnjeg datuma //n...<b>Today<b>\n",
    "        else:\n",
    "            #pri čemu se koristi datetime bibliteka za definiranje\n",
    "            # današnjeg datuma u istom obliku \n",
    "            date=datetime.datetime.now().strftime(\"%B %d %Y\")\n",
    "        dat.append(date)\n",
    "    # prolaz kroz svaki element klase 'windowbg'\n",
    "    for post in posts:\n",
    "        text=post.find('a')\n",
    "        # neki elementi za izlaz daju \"None\" vrijednost\n",
    "        try:\n",
    "            text=text.string\n",
    "        # ako je text=None samo nastavi\n",
    "        except:\n",
    "            continue\n",
    "        # dodaj text varijablu u subject listu \n",
    "        subject.append(text)\n",
    "        \n",
    "# dat i subject liste se pretvarju u Series stupce\n",
    "# zbog potrebe spajanja u tablicu naredbom concat\n",
    "dat=pd.Series(dat)\n",
    "# 1. stranica daje jedan element None viška, pa se počinje od 2. reda\n",
    "# kako bi bili datumi usklađeni s temama koje su objavljene na taj datum\n",
    "subject=subject[1:]\n",
    "subject=pd.Series(subject)\n",
    "\n",
    "df=pd.concat({\"Date\": dat ,\"subject\": subject}, axis=1)\n",
    "df=df.iloc[3:]"
   ]
  },
  {
   "cell_type": "code",
   "execution_count": 5,
   "id": "5ee8897a-5296-4204-bbe3-0d5c0fe7f521",
   "metadata": {},
   "outputs": [],
   "source": [
    "# # provjera jesu li svi datumi točno ispisani\n",
    "# for i in range(2300,500,-150):\n",
    "#     print(df.Date[i])"
   ]
  },
  {
   "cell_type": "code",
   "execution_count": 6,
   "id": "c7dcb826",
   "metadata": {},
   "outputs": [],
   "source": [
    "import time\n",
    "# od 3 jer tablica počinje od 3 indexa do len +3 \n",
    "for i in range(3,len(df.Date)+3):\n",
    "    # najprije u time.struct_time touple format\n",
    "    df.Date[i]=time.strptime(df.Date[i],\"%B %d %Y\")\n",
    "    # pa u %Y-%m-%d format\n",
    "    df.Date[i]=time.strftime(\"%Y-%m-%d\",df.Date[i])"
   ]
  },
  {
   "cell_type": "code",
   "execution_count": 7,
   "id": "85124cbc",
   "metadata": {},
   "outputs": [
    {
     "data": {
      "text/html": [
       "<div>\n",
       "<style scoped>\n",
       "    .dataframe tbody tr th:only-of-type {\n",
       "        vertical-align: middle;\n",
       "    }\n",
       "\n",
       "    .dataframe tbody tr th {\n",
       "        vertical-align: top;\n",
       "    }\n",
       "\n",
       "    .dataframe thead th {\n",
       "        text-align: right;\n",
       "    }\n",
       "</style>\n",
       "<table border=\"1\" class=\"dataframe\">\n",
       "  <thead>\n",
       "    <tr style=\"text-align: right;\">\n",
       "      <th></th>\n",
       "      <th>Date</th>\n",
       "      <th>subject</th>\n",
       "    </tr>\n",
       "  </thead>\n",
       "  <tbody>\n",
       "    <tr>\n",
       "      <th>3</th>\n",
       "      <td>2023-01-30</td>\n",
       "      <td>Bitcoin always shames social media experts.</td>\n",
       "    </tr>\n",
       "    <tr>\n",
       "      <th>4</th>\n",
       "      <td>2023-01-30</td>\n",
       "      <td>Bitcoin &amp; China time to time waving History</td>\n",
       "    </tr>\n",
       "    <tr>\n",
       "      <th>5</th>\n",
       "      <td>2023-01-29</td>\n",
       "      <td>I found long forgotten sats in my wallet but.</td>\n",
       "    </tr>\n",
       "    <tr>\n",
       "      <th>6</th>\n",
       "      <td>2023-01-29</td>\n",
       "      <td>Will countries ban Bitcoin mining due to envir...</td>\n",
       "    </tr>\n",
       "    <tr>\n",
       "      <th>7</th>\n",
       "      <td>2023-01-28</td>\n",
       "      <td>Why is Bitcoin gaining this much fame despite ...</td>\n",
       "    </tr>\n",
       "    <tr>\n",
       "      <th>...</th>\n",
       "      <td>...</td>\n",
       "      <td>...</td>\n",
       "    </tr>\n",
       "    <tr>\n",
       "      <th>15115</th>\n",
       "      <td>2017-10-09</td>\n",
       "      <td>WHAT EXACTLY WILL HAPEN AFTER OCTOBER !6?</td>\n",
       "    </tr>\n",
       "    <tr>\n",
       "      <th>15116</th>\n",
       "      <td>2017-10-09</td>\n",
       "      <td>BITCOIN Split this 25 Oct, How you think?</td>\n",
       "    </tr>\n",
       "    <tr>\n",
       "      <th>15117</th>\n",
       "      <td>2017-10-09</td>\n",
       "      <td>Bitcoin Gold Fork: Exclusive Q&amp;A with Oscar La...</td>\n",
       "    </tr>\n",
       "    <tr>\n",
       "      <th>15118</th>\n",
       "      <td>2017-10-09</td>\n",
       "      <td>what's up with the upcoming fork?</td>\n",
       "    </tr>\n",
       "    <tr>\n",
       "      <th>15119</th>\n",
       "      <td>2017-10-09</td>\n",
       "      <td>NaN</td>\n",
       "    </tr>\n",
       "  </tbody>\n",
       "</table>\n",
       "<p>15117 rows × 2 columns</p>\n",
       "</div>"
      ],
      "text/plain": [
       "             Date                                            subject\n",
       "3      2023-01-30        Bitcoin always shames social media experts.\n",
       "4      2023-01-30       Bitcoin & China time to time waving History \n",
       "5      2023-01-29     I found long forgotten sats in my wallet but. \n",
       "6      2023-01-29  Will countries ban Bitcoin mining due to envir...\n",
       "7      2023-01-28  Why is Bitcoin gaining this much fame despite ...\n",
       "...           ...                                                ...\n",
       "15115  2017-10-09          WHAT EXACTLY WILL HAPEN AFTER OCTOBER !6?\n",
       "15116  2017-10-09          BITCOIN Split this 25 Oct, How you think?\n",
       "15117  2017-10-09  Bitcoin Gold Fork: Exclusive Q&A with Oscar La...\n",
       "15118  2017-10-09                 what's up with the upcoming fork? \n",
       "15119  2017-10-09                                                NaN\n",
       "\n",
       "[15117 rows x 2 columns]"
      ]
     },
     "execution_count": 7,
     "metadata": {},
     "output_type": "execute_result"
    }
   ],
   "source": [
    "df"
   ]
  },
  {
   "cell_type": "code",
   "execution_count": 8,
   "id": "63fe6eb1",
   "metadata": {},
   "outputs": [],
   "source": [
    "df=df.set_index('Date')"
   ]
  },
  {
   "cell_type": "code",
   "execution_count": 9,
   "id": "d941d779",
   "metadata": {},
   "outputs": [],
   "source": [
    "df=df.iloc[::-1]"
   ]
  },
  {
   "cell_type": "code",
   "execution_count": 10,
   "id": "a146bc67",
   "metadata": {},
   "outputs": [],
   "source": [
    "# potrebno je opet zadati brojevne indexe jer ako su\n",
    "# datumi postavljeni za index stupac ne prepoznaju, postavljaju se \n",
    "# kao zasebni stupac\n",
    "df=df.reset_index()"
   ]
  },
  {
   "cell_type": "code",
   "execution_count": 11,
   "id": "1c570d72",
   "metadata": {},
   "outputs": [],
   "source": [
    "# pretvaranje dobivene tablice u listu\n",
    "df_list = df.to_dict('records')"
   ]
  },
  {
   "cell_type": "markdown",
   "id": "2c885e59-0476-4b5a-965c-be6fa0511c60",
   "metadata": {},
   "source": [
    "#### postavljanje datuma kao glavnog ključa koji sadrži listu tema za taj dan"
   ]
  },
  {
   "cell_type": "code",
   "execution_count": 12,
   "id": "0c97e3f5",
   "metadata": {},
   "outputs": [],
   "source": [
    "teme={}\n",
    "for dic in df_list:\n",
    "    datum=dic[\"Date\"]\n",
    "    if datum not in teme:\n",
    "        teme[datum]=dict(teme_list=list())\n",
    "    tema=dic[\"subject\"]\n",
    "    teme[datum][\"teme_list\"].append(tema)"
   ]
  },
  {
   "cell_type": "markdown",
   "id": "547a3b30-04cb-459d-a09e-e77126c21fd6",
   "metadata": {},
   "source": [
    "### Uvoz bilblioteke Transformers\n",
    "* modul `pipeline` omogućuje upotrebu osnovnog deep learning modela za analizu teksta\n",
    "* deep learning model `sentiment-analysis` analizira tekst i vraća rezulte u brojevnom obliku\n",
    "* ključevi dict-a su `label` koji za vrijednost ima polaritet (Positive/Negative) i score koji označuje rezultat od 0-1 i "
   ]
  },
  {
   "cell_type": "code",
   "execution_count": 13,
   "id": "2dfe4f1a",
   "metadata": {},
   "outputs": [
    {
     "name": "stderr",
     "output_type": "stream",
     "text": [
      "No model was supplied, defaulted to distilbert-base-uncased-finetuned-sst-2-english and revision af0f99b (https://huggingface.co/distilbert-base-uncased-finetuned-sst-2-english).\n",
      "Using a pipeline without specifying a model name and revision in production is not recommended.\n",
      "All PyTorch model weights were used when initializing TFDistilBertForSequenceClassification.\n",
      "\n",
      "All the weights of TFDistilBertForSequenceClassification were initialized from the PyTorch model.\n",
      "If your task is similar to the task the model of the checkpoint was trained on, you can already use TFDistilBertForSequenceClassification for predictions without further training.\n"
     ]
    }
   ],
   "source": [
    "from transformers import pipeline\n",
    "sent_pipeline = pipeline(\"sentiment-analysis\")"
   ]
  },
  {
   "cell_type": "markdown",
   "id": "f0539332-594e-4c2c-9b2a-4af5bb4d9766",
   "metadata": {},
   "source": [
    "#### Izrada funkcije za analizu komentara\n",
    "* Ako je uneseni tekst unutar modela pozitvno orijetitan poput \"like\", \"great\", \"rise\", `label` će biti `POSITIVE`\n",
    "* Tekst poput \"hate\", \"collapse\", \"fallout\" će vratit vrijednost label ključa `NEGATIVE`  \n",
    "* Na osnovu tih vrijednosti se izrađuje funkcija, koja ako je label NEGATIVE vraća negativnu vrijednost rezultata\n",
    "* analiziranje teksta staje na 100 znakova unesenog teksta (`tekst[:100]`) kako bi se funkcija izvršila u što kraćem roku, što ubrzava izvođenje daljnjeg programskog koda \n",
    "* index [0] se postavlja jer je sentiment_pipeline vraća dictonary unutar liste, 0 je prvi element liste"
   ]
  },
  {
   "cell_type": "code",
   "execution_count": 14,
   "id": "78610244",
   "metadata": {},
   "outputs": [],
   "source": [
    "def analiza_sent(tekst):\n",
    "    tema=sent_pipeline(tekst[:100])[0]\n",
    "    rezultat=tema[\"score\"]\n",
    "    polaritet=tema[\"label\"]\n",
    "    if polaritet==\"NEGATIVE\":\n",
    "        rezultat*=-1\n",
    "    return rezultat"
   ]
  },
  {
   "cell_type": "code",
   "execution_count": 15,
   "id": "370a6b59",
   "metadata": {},
   "outputs": [],
   "source": [
    "rez_transf={}\n",
    "for dat in teme:\n",
    "    lista_tema = teme[dat][\"teme_list\"]\n",
    "    rez_transf[dat]=dict(broj_tema=len(lista_tema), rezultati=list())\n",
    "    for tema in lista_tema:\n",
    "        rez_transf[dat][\"rezultati\"].append(analiza_sent(str(tema)))"
   ]
  },
  {
   "cell_type": "code",
   "execution_count": 16,
   "id": "71746e17",
   "metadata": {},
   "outputs": [],
   "source": [
    "# funkcije za odvajanje pozitvinih od negativnih komentara\n",
    "def pozitivni(lista):\n",
    "    return [br for br in lista if br >= 0]\n",
    "\n",
    "def negativni(lista):\n",
    "    return [br for br in lista if br<0]"
   ]
  },
  {
   "cell_type": "code",
   "execution_count": 17,
   "id": "0cff57a8",
   "metadata": {},
   "outputs": [],
   "source": [
    "end_transf={}\n",
    "\n",
    "for k in rez_transf:\n",
    "    rez=rez_transf[k][\"rezultati\"]\n",
    "    end_transf[k]=dict(broj_tema=rez_transf[k][\"broj_tema\"],avg_rezultata=float,\n",
    "                       posto_poz=float,posto_neg=float)\n",
    "    end_k=end_transf[k]\n",
    "    end_k[\"avg_rezultata\"]=sum(rez)/len(rez) \n",
    "    end_k[\"posto_poz\"]=len(pozitivni(rez))/len(rez)\n",
    "    end_k[\"posto_neg\"]=len(negativni(rez))/len(rez)"
   ]
  },
  {
   "cell_type": "code",
   "execution_count": 18,
   "id": "bdca07b5",
   "metadata": {},
   "outputs": [
    {
     "data": {
      "text/plain": [
       "1511"
      ]
     },
     "execution_count": 18,
     "metadata": {},
     "output_type": "execute_result"
    }
   ],
   "source": [
    "len(end_transf)"
   ]
  },
  {
   "cell_type": "markdown",
   "id": "214389c6-9d54-433d-b585-42197bf12081",
   "metadata": {},
   "source": [
    "## Prebacivanje rezultata u pandas df"
   ]
  },
  {
   "cell_type": "code",
   "execution_count": 19,
   "id": "802b1e89",
   "metadata": {},
   "outputs": [],
   "source": [
    "# pretvarnje end_transf dictionary-a u tablicu\n",
    "df_transf=pd.DataFrame.from_dict(end_transf,orient=\"index\")"
   ]
  },
  {
   "cell_type": "code",
   "execution_count": 20,
   "id": "d38b6cb3",
   "metadata": {},
   "outputs": [],
   "source": [
    "# Postavljanje datetime index-a\n",
    "df_transf.index=pd.to_datetime(df_transf.index)"
   ]
  },
  {
   "cell_type": "code",
   "execution_count": 23,
   "id": "c42eb6ef",
   "metadata": {},
   "outputs": [
    {
     "data": {
      "text/html": [
       "<div>\n",
       "<style scoped>\n",
       "    .dataframe tbody tr th:only-of-type {\n",
       "        vertical-align: middle;\n",
       "    }\n",
       "\n",
       "    .dataframe tbody tr th {\n",
       "        vertical-align: top;\n",
       "    }\n",
       "\n",
       "    .dataframe thead th {\n",
       "        text-align: right;\n",
       "    }\n",
       "</style>\n",
       "<table border=\"1\" class=\"dataframe\">\n",
       "  <thead>\n",
       "    <tr style=\"text-align: right;\">\n",
       "      <th></th>\n",
       "      <th>broj_tema</th>\n",
       "      <th>avg_rezultata</th>\n",
       "      <th>posto_poz</th>\n",
       "      <th>posto_neg</th>\n",
       "    </tr>\n",
       "  </thead>\n",
       "  <tbody>\n",
       "    <tr>\n",
       "      <th>2017-10-09</th>\n",
       "      <td>5</td>\n",
       "      <td>-0.223233</td>\n",
       "      <td>0.400000</td>\n",
       "      <td>0.600000</td>\n",
       "    </tr>\n",
       "    <tr>\n",
       "      <th>2017-10-10</th>\n",
       "      <td>27</td>\n",
       "      <td>-0.552819</td>\n",
       "      <td>0.222222</td>\n",
       "      <td>0.777778</td>\n",
       "    </tr>\n",
       "    <tr>\n",
       "      <th>2017-10-11</th>\n",
       "      <td>35</td>\n",
       "      <td>-0.653513</td>\n",
       "      <td>0.171429</td>\n",
       "      <td>0.828571</td>\n",
       "    </tr>\n",
       "    <tr>\n",
       "      <th>2017-10-12</th>\n",
       "      <td>29</td>\n",
       "      <td>-0.570012</td>\n",
       "      <td>0.206897</td>\n",
       "      <td>0.793103</td>\n",
       "    </tr>\n",
       "    <tr>\n",
       "      <th>2017-10-13</th>\n",
       "      <td>20</td>\n",
       "      <td>-0.597239</td>\n",
       "      <td>0.200000</td>\n",
       "      <td>0.800000</td>\n",
       "    </tr>\n",
       "    <tr>\n",
       "      <th>...</th>\n",
       "      <td>...</td>\n",
       "      <td>...</td>\n",
       "      <td>...</td>\n",
       "      <td>...</td>\n",
       "    </tr>\n",
       "    <tr>\n",
       "      <th>2023-01-26</th>\n",
       "      <td>5</td>\n",
       "      <td>-0.992185</td>\n",
       "      <td>0.000000</td>\n",
       "      <td>1.000000</td>\n",
       "    </tr>\n",
       "    <tr>\n",
       "      <th>2023-01-27</th>\n",
       "      <td>4</td>\n",
       "      <td>0.497894</td>\n",
       "      <td>0.750000</td>\n",
       "      <td>0.250000</td>\n",
       "    </tr>\n",
       "    <tr>\n",
       "      <th>2023-01-28</th>\n",
       "      <td>2</td>\n",
       "      <td>-0.978725</td>\n",
       "      <td>0.000000</td>\n",
       "      <td>1.000000</td>\n",
       "    </tr>\n",
       "    <tr>\n",
       "      <th>2023-01-29</th>\n",
       "      <td>2</td>\n",
       "      <td>-0.996318</td>\n",
       "      <td>0.000000</td>\n",
       "      <td>1.000000</td>\n",
       "    </tr>\n",
       "    <tr>\n",
       "      <th>2023-01-30</th>\n",
       "      <td>2</td>\n",
       "      <td>-0.051538</td>\n",
       "      <td>0.500000</td>\n",
       "      <td>0.500000</td>\n",
       "    </tr>\n",
       "  </tbody>\n",
       "</table>\n",
       "<p>1511 rows × 4 columns</p>\n",
       "</div>"
      ],
      "text/plain": [
       "            broj_tema  avg_rezultata  posto_poz  posto_neg\n",
       "2017-10-09          5      -0.223233   0.400000   0.600000\n",
       "2017-10-10         27      -0.552819   0.222222   0.777778\n",
       "2017-10-11         35      -0.653513   0.171429   0.828571\n",
       "2017-10-12         29      -0.570012   0.206897   0.793103\n",
       "2017-10-13         20      -0.597239   0.200000   0.800000\n",
       "...               ...            ...        ...        ...\n",
       "2023-01-26          5      -0.992185   0.000000   1.000000\n",
       "2023-01-27          4       0.497894   0.750000   0.250000\n",
       "2023-01-28          2      -0.978725   0.000000   1.000000\n",
       "2023-01-29          2      -0.996318   0.000000   1.000000\n",
       "2023-01-30          2      -0.051538   0.500000   0.500000\n",
       "\n",
       "[1511 rows x 4 columns]"
      ]
     },
     "execution_count": 23,
     "metadata": {},
     "output_type": "execute_result"
    }
   ],
   "source": [
    "df_transf"
   ]
  },
  {
   "cell_type": "code",
   "execution_count": 43,
   "id": "74ea3d90-7527-4c5a-b36b-81ced2e10bbf",
   "metadata": {},
   "outputs": [],
   "source": [
    "# definiranje varijble koja će postati novi index\n",
    "# postavljnje početnog i završnog datuma\n",
    "datumi=pd.date_range(start=\"10-09-2017\",end=\"01-30-2023\")"
   ]
  },
  {
   "cell_type": "code",
   "execution_count": 44,
   "id": "6e4c134f-714d-4cd6-ac56-1cde7b420d58",
   "metadata": {},
   "outputs": [],
   "source": [
    "# reindeksirenje i ispunjavanje nepostojećih datuma s vrijednostima 0\n",
    "df_reindex = df_transf.reindex(datumi,fill_value=0)"
   ]
  },
  {
   "cell_type": "code",
   "execution_count": 45,
   "id": "a17720d0",
   "metadata": {},
   "outputs": [
    {
     "data": {
      "text/plain": [
       "1940"
      ]
     },
     "execution_count": 45,
     "metadata": {},
     "output_type": "execute_result"
    }
   ],
   "source": [
    "len(df_reindex)"
   ]
  },
  {
   "cell_type": "code",
   "execution_count": 46,
   "id": "45e39511",
   "metadata": {},
   "outputs": [],
   "source": [
    "# upotreba rolling funkcije za pronalazak srednje vrijednosti posljednjih 7 dana\n",
    "rolling_transf=df_transf.rolling(7).mean()"
   ]
  },
  {
   "cell_type": "code",
   "execution_count": 47,
   "id": "1beb8bad",
   "metadata": {},
   "outputs": [],
   "source": [
    "# izbacivanje NaN vrijednosti koje su kreirane rolling funkcijom\n",
    "rolling_transf=rolling_transf.dropna()"
   ]
  },
  {
   "cell_type": "code",
   "execution_count": 48,
   "id": "00dfee3f",
   "metadata": {},
   "outputs": [
    {
     "data": {
      "text/html": [
       "<div>\n",
       "<style scoped>\n",
       "    .dataframe tbody tr th:only-of-type {\n",
       "        vertical-align: middle;\n",
       "    }\n",
       "\n",
       "    .dataframe tbody tr th {\n",
       "        vertical-align: top;\n",
       "    }\n",
       "\n",
       "    .dataframe thead th {\n",
       "        text-align: right;\n",
       "    }\n",
       "</style>\n",
       "<table border=\"1\" class=\"dataframe\">\n",
       "  <thead>\n",
       "    <tr style=\"text-align: right;\">\n",
       "      <th></th>\n",
       "      <th>broj_tema</th>\n",
       "      <th>avg_rezultata</th>\n",
       "      <th>posto_poz</th>\n",
       "      <th>posto_neg</th>\n",
       "    </tr>\n",
       "  </thead>\n",
       "  <tbody>\n",
       "    <tr>\n",
       "      <th>2017-10-15</th>\n",
       "      <td>22.857143</td>\n",
       "      <td>-0.560452</td>\n",
       "      <td>0.214852</td>\n",
       "      <td>0.785148</td>\n",
       "    </tr>\n",
       "    <tr>\n",
       "      <th>2017-10-17</th>\n",
       "      <td>26.428571</td>\n",
       "      <td>-0.623252</td>\n",
       "      <td>0.181519</td>\n",
       "      <td>0.818481</td>\n",
       "    </tr>\n",
       "    <tr>\n",
       "      <th>2017-10-18</th>\n",
       "      <td>26.142857</td>\n",
       "      <td>-0.620433</td>\n",
       "      <td>0.184059</td>\n",
       "      <td>0.815941</td>\n",
       "    </tr>\n",
       "    <tr>\n",
       "      <th>2017-10-19</th>\n",
       "      <td>24.714286</td>\n",
       "      <td>-0.644301</td>\n",
       "      <td>0.170997</td>\n",
       "      <td>0.829003</td>\n",
       "    </tr>\n",
       "    <tr>\n",
       "      <th>2017-10-21</th>\n",
       "      <td>22.857143</td>\n",
       "      <td>-0.586864</td>\n",
       "      <td>0.203941</td>\n",
       "      <td>0.796059</td>\n",
       "    </tr>\n",
       "    <tr>\n",
       "      <th>...</th>\n",
       "      <td>...</td>\n",
       "      <td>...</td>\n",
       "      <td>...</td>\n",
       "      <td>...</td>\n",
       "    </tr>\n",
       "    <tr>\n",
       "      <th>2023-01-26</th>\n",
       "      <td>4.714286</td>\n",
       "      <td>-0.252693</td>\n",
       "      <td>0.371769</td>\n",
       "      <td>0.628231</td>\n",
       "    </tr>\n",
       "    <tr>\n",
       "      <th>2023-01-27</th>\n",
       "      <td>4.714286</td>\n",
       "      <td>-0.180203</td>\n",
       "      <td>0.407483</td>\n",
       "      <td>0.592517</td>\n",
       "    </tr>\n",
       "    <tr>\n",
       "      <th>2023-01-28</th>\n",
       "      <td>4.428571</td>\n",
       "      <td>-0.250436</td>\n",
       "      <td>0.371769</td>\n",
       "      <td>0.628231</td>\n",
       "    </tr>\n",
       "    <tr>\n",
       "      <th>2023-01-29</th>\n",
       "      <td>4.428571</td>\n",
       "      <td>-0.393075</td>\n",
       "      <td>0.300340</td>\n",
       "      <td>0.699660</td>\n",
       "    </tr>\n",
       "    <tr>\n",
       "      <th>2023-01-30</th>\n",
       "      <td>3.857143</td>\n",
       "      <td>-0.446715</td>\n",
       "      <td>0.276531</td>\n",
       "      <td>0.723469</td>\n",
       "    </tr>\n",
       "  </tbody>\n",
       "</table>\n",
       "<p>1505 rows × 4 columns</p>\n",
       "</div>"
      ],
      "text/plain": [
       "            broj_tema  avg_rezultata  posto_poz  posto_neg\n",
       "2017-10-15  22.857143      -0.560452   0.214852   0.785148\n",
       "2017-10-17  26.428571      -0.623252   0.181519   0.818481\n",
       "2017-10-18  26.142857      -0.620433   0.184059   0.815941\n",
       "2017-10-19  24.714286      -0.644301   0.170997   0.829003\n",
       "2017-10-21  22.857143      -0.586864   0.203941   0.796059\n",
       "...               ...            ...        ...        ...\n",
       "2023-01-26   4.714286      -0.252693   0.371769   0.628231\n",
       "2023-01-27   4.714286      -0.180203   0.407483   0.592517\n",
       "2023-01-28   4.428571      -0.250436   0.371769   0.628231\n",
       "2023-01-29   4.428571      -0.393075   0.300340   0.699660\n",
       "2023-01-30   3.857143      -0.446715   0.276531   0.723469\n",
       "\n",
       "[1505 rows x 4 columns]"
      ]
     },
     "execution_count": 48,
     "metadata": {},
     "output_type": "execute_result"
    }
   ],
   "source": [
    "rolling_transf"
   ]
  },
  {
   "cell_type": "code",
   "execution_count": 49,
   "id": "1d09f3d8",
   "metadata": {},
   "outputs": [],
   "source": [
    "# Prebacivanje konačne tablice u .csv dokument\n",
    "rolling_transf.to_csv(\"Transf_roll7_new.csv\")"
   ]
  },
  {
   "cell_type": "markdown",
   "id": "c122e9f2-b40c-4ab0-8649-798719508b67",
   "metadata": {},
   "source": [
    "### Upotreba funkcije rolling\n",
    "* rolling omogućuje izračun srednje vrijednosti podataka u posljednjih 7 dana srednja vrijednost od 1. do 7. reda zapisan je u 7. red, 8 red ima zapisanu srednju vrijednost od 2. do 8. reda i tako do kraj tablice\n",
    "* prvih 7 redova ima NaN vrijednosti je nemaju prethodnih podataka za izračun pa ih je potrebno ukloniti"
   ]
  }
 ],
 "metadata": {
  "kernelspec": {
   "display_name": "Python 3 (ipykernel)",
   "language": "python",
   "name": "python3"
  },
  "language_info": {
   "codemirror_mode": {
    "name": "ipython",
    "version": 3
   },
   "file_extension": ".py",
   "mimetype": "text/x-python",
   "name": "python",
   "nbconvert_exporter": "python",
   "pygments_lexer": "ipython3",
   "version": "3.9.13"
  }
 },
 "nbformat": 4,
 "nbformat_minor": 5
}
