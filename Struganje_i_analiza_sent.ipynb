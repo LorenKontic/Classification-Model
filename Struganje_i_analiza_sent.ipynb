{
 "cells": [
  {
   "cell_type": "markdown",
   "id": "fd3ba9b5-a6f6-422f-a2d9-7a745ceab259",
   "metadata": {},
   "source": [
    "## Opis projekta"
   ]
  },
  {
   "cell_type": "markdown",
   "id": "ac526fa7-4154-493e-923c-3781fdd5abcc",
   "metadata": {},
   "source": [
    "Na web forumu bitcointalk.org pod sekcijom \"Bitcoin Discussion\" se svakodnevno objavljuju teme za raspravu od strane\n",
    "raznih korisnika istog foruma. Pretpostavka je da će broj objavljenih tema na dnvenoj bazi kao i da će rezultati analize sentimenata teksta tih tema dati povratnu informaciju o javnom interesu za Bitcoin kriptovalutom. Tekst tema kao i datum objave teme iz navedenog foruma ostrugati (eng.scrape) će se pomoću BeautfulSoup i requests biblioteka.\n",
    "Analiza sentimenta teksta objavljenih tema izvršiti će se upotrebom Transformes bilbioteke, točinije njezinog osnovnog deep learning modela za klasifikaciju teksta naziva \"sentiment-analysis\".\n",
    "Rezultati analize sentimenta teksta poslužiti će kao dio ulaznog seta podataka s pretpostavkom da će poboljšati uspješnost modela u predviđanju rasta ili pada cijene Bitcoina na dnevnoj bazi."
   ]
  },
  {
   "cell_type": "code",
   "execution_count": null,
   "id": "5a3b20b4",
   "metadata": {},
   "outputs": [],
   "source": [
    "# !pip install transformes\n",
    "# !pip install pandas\n",
    "# !pip install requests\n",
    "# !pip install bs4\n",
    "# !pip install datetime"
   ]
  },
  {
   "cell_type": "code",
   "execution_count": 223,
   "id": "a188a7e2",
   "metadata": {},
   "outputs": [],
   "source": [
    "import requests\n",
    "from bs4 import BeautifulSoup\n",
    "import pandas as pd\n",
    "import datetime\n",
    "import re"
   ]
  },
  {
   "cell_type": "markdown",
   "id": "fcbd7659",
   "metadata": {},
   "source": [
    "### scrape_url - scrapes url and returns board number of forum page for target dates"
   ]
  },
  {
   "cell_type": "code",
   "execution_count": 285,
   "id": "f7da6691",
   "metadata": {
    "scrolled": true
   },
   "outputs": [
    {
     "name": "stdout",
     "output_type": "stream",
     "text": [
      "Extracted URL for page 690: https://bitcointalk.org/index.php?board=1.27560\n",
      "Date matches. Scraping URL...\n",
      "URL scraped from 9/10/2017: https://bitcointalk.org/index.php?board=1.27560\n"
     ]
    },
    {
     "data": {
      "text/plain": [
       "27560"
      ]
     },
     "execution_count": 285,
     "metadata": {},
     "output_type": "execute_result"
    }
   ],
   "source": [
    "def scrape_url(board_num,top_page_list_el,end_date):\n",
    "    \"\"\"board_num-f'https://bitcointalk.org/index.php?board=1.{board_num}'\n",
    "        top_page_list_el - top_pages_list[top_page_list_el:top_page_list_el+1]\n",
    "        end_date - ex.:\"10-09-2023\"(mm-dd-yyyy)\n",
    "    \"\"\"\n",
    "    #board_num=27440\n",
    "    # Scrape which page is last, after ...page_number\n",
    "    url = f'https://bitcointalk.org/index.php?board=1.{board_num}'\n",
    "    page = requests.get(url).text\n",
    "    soup = BeautifulSoup(page, 'html.parser')\n",
    "    top_pages_list = soup.find_all(class_='navPages')\n",
    "    a_element = str(top_pages_list[top_page_list_el:top_page_list_el+1])\n",
    "    # group(1)- for numbers\n",
    "    page_num = re.search(r'>(\\d+)<',a_element).group(1)\n",
    "    # <a class=\"navPages\" href=\"https://bitcointalk.org/index.php?board=1.27560\">690</a>\n",
    "    # Regex pattern to extract URL\n",
    "    pattern = r'href=\"([^\"]*)\"'\n",
    "\n",
    "    # Find all matches\n",
    "    matches = re.findall(pattern, a_element)\n",
    "\n",
    "    # Extract the URL from the first match\n",
    "    if matches:\n",
    "        scraped_url = matches[0]\n",
    "        print(f\"Extracted URL for page {page_num}:\", scraped_url)\n",
    "    else:\n",
    "        print(\"No URL found in the given string.\")\n",
    "        return\n",
    "\n",
    "    # Visit the scraped URL\n",
    "    page = requests.get(scraped_url).text\n",
    "    soup = BeautifulSoup(page, 'html.parser')\n",
    "\n",
    "    # Find date elements\n",
    "    date_elements = soup.find_all(class_='windowbg2 lastpostcol')\n",
    "    \n",
    "    \n",
    "    # Convert the one year ago date to the format of month and day\n",
    "    target_date = datetime.datetime.strptime(end_date, '%m-%d-%Y')\n",
    "    \n",
    "    #datumi=pd.date_range(start=\"10-09-2017\",end=\"01-23-2023\")\n",
    "    #for date in date_elements:\n",
    "    # reverse list iteration : start(len(date_elements)-1:last el(0-1):step(-1))\n",
    "    for i in range(len(date_elements)-1,-1,-1):\n",
    "        date = date_elements[i]\n",
    "        # Convert the date element to string and extract the date\n",
    "        date_str = str(list(date.descendants)[5:7])\n",
    "\n",
    "        # If the date string has more than 20 characters, it contains the full date and time\n",
    "        if len(date_str) > 20:\n",
    "            date_str = date_str[20:]\n",
    "            scraped_date=re.search('^[A-Z][a-z]{2,8}\\s\\d{2}\\,\\s\\d{4}',date_str).group(0)\n",
    "            scraped_date = re.sub(\"\\,\", \"\", scraped_date)\n",
    "            parsed_date = datetime.datetime.strptime(scraped_date, \"%B %d %Y\")\n",
    "          \n",
    "            \n",
    "        # If the date \n",
    "        if parsed_date > target_date:\n",
    "            return scrape_url(board_num,top_page_list_el+1,end_date) \n",
    "        elif i == 0 and parsed_date < target_date:\n",
    "            return scrape_url(board_num,top_page_list_el-1,end_date)\n",
    "        # If the date matches, scrape the URL\n",
    "        elif parsed_date == target_date:\n",
    "            print(\"Date matches. Scraping URL...\")\n",
    "            print(f\"URL scraped from {target_date.day}/{target_date.month}/{target_date.year}:\", scraped_url)\n",
    "            board_num = int(re.search(r'board=1.(\\d+)',scraped_url).group(1))\n",
    "            return board_num\n",
    "\n",
    "    return None"
   ]
  },
  {
   "cell_type": "code",
   "execution_count": 288,
   "id": "b8b16e60",
   "metadata": {},
   "outputs": [
    {
     "name": "stdout",
     "output_type": "stream",
     "text": [
      "Extracted URL for page 77: https://bitcointalk.org/index.php?board=1.3040\n",
      "Extracted URL for page 78: https://bitcointalk.org/index.php?board=1.3080\n",
      "Date matches. Scraping URL...\n",
      "URL scraped from 23/1/2023: https://bitcointalk.org/index.php?board=1.3080\n",
      "Extracted URL for page 690: https://bitcointalk.org/index.php?board=1.27560\n",
      "Date matches. Scraping URL...\n",
      "URL scraped from 9/10/2017: https://bitcointalk.org/index.php?board=1.27560\n"
     ]
    }
   ],
   "source": [
    "import requests\n",
    "from bs4 import BeautifulSoup\n",
    "import pandas as pd\n",
    "import datetime\n",
    "import re\n",
    "\n",
    "subject=[]\n",
    "dat=[]\n",
    "first_board = scrape_url(3160,49,\"01-23-2023\")\n",
    "last_board = scrape_url(27440,54,\"10-09-2017\")\n",
    "\n",
    "for i in range(first_board,last_board,40):\n",
    "    # svaka stranica ima url pomaknut za 40 gledajući znak poslje ...board=1.\n",
    "    # 1. str ima ...board=1.0, 2. str....board=1.40 ...\n",
    "    url = f'https://bitcointalk.org/index.php?board=1.{i}'\n",
    "    page = requests.get(url).text\n",
    "    soup = BeautifulSoup(page, 'html.parser')\n",
    "    \n",
    "    date_element= soup.find_all(class_='windowbg2 lastpostcol')\n",
    "    posts = soup.find_all(class_='windowbg') \n",
    "    # find_all funkcija vraća listu elemenata iz kojih se izvlači datum \n",
    "    for date in date_element:\n",
    "        # 2 elementa liste spremljna u jednu str varijablu\n",
    "        date=str(list(date.descendants)[5:7])\n",
    "        # ako element ima više od 20 znakova sadrži poni datum i vrijeme\n",
    "        if len(date)>20:\n",
    "            date=date[20:]\n",
    "            # search funkcija za pronalazak datuma (npr. February 22, 2023)\n",
    "            # REGEX:\n",
    "            # veliko 1.slovo: [A-Z]\n",
    "            # 2-8 malih slova: [a-z]{2,8}\n",
    "            # \\s:  razmak(whitespace)\n",
    "            # dan:  \\d{2}\n",
    "            # zarez: \\,\n",
    "            # godina: \\d{4}          \n",
    "            date=re.search('^[A-Z][a-z]{2,8}\\s\\d{2}\\,\\s\\d{4}',date).group(0)\n",
    "            #datum sadrži zarez(,) potrebno ga je ukloniti sub funkcijom\n",
    "            date=re.sub(\"\\,\", \"\", date)\n",
    "        # ako ne, radi se o oznaci današnjeg datuma //n...<b>Today<b>\n",
    "        else:\n",
    "            #pri čemu se koristi datetime bibliteka za definiranje\n",
    "            # današnjeg datuma u istom obliku \n",
    "            date=datetime.datetime.now().strftime(\"%B %d %Y\")\n",
    "        dat.append(date)\n",
    "    # prolaz kroz svaki element klase 'windowbg'\n",
    "    for post in posts:\n",
    "        text=post.find('a')\n",
    "        # neki elementi za izlaz daju \"None\" vrijednost\n",
    "        try:\n",
    "            text=text.string\n",
    "        # ako je text=None samo nastavi\n",
    "        except:\n",
    "            continue\n",
    "        # dodaj text varijablu u subject listu \n",
    "        subject.append(text)\n",
    "        \n",
    "# dat i subject liste se pretvarju u Series stupce\n",
    "# zbog potrebe spajanja u tablicu naredbom concat\n",
    "dat=pd.Series(dat)\n",
    "# 1. stranica daje jedan element None viška, pa se počinje od 2. reda\n",
    "# kako bi bili datumi usklađeni s temama koje su objavljene na taj datum\n",
    "subject=subject[1:]\n",
    "subject=pd.Series(subject)\n",
    "\n",
    "df=pd.concat({\"Date\": dat ,\"subject\": subject}, axis=1)\n",
    "df=df.iloc[3:]"
   ]
  },
  {
   "cell_type": "code",
   "execution_count": 10,
   "id": "5ee8897a-5296-4204-bbe3-0d5c0fe7f521",
   "metadata": {},
   "outputs": [],
   "source": [
    "# # provjera jesu li svi datumi točno ispisani\n",
    "# for i in range(2300,500,-150):\n",
    "#     print(df.Date[i])"
   ]
  },
  {
   "cell_type": "code",
   "execution_count": 289,
   "id": "c7dcb826",
   "metadata": {},
   "outputs": [],
   "source": [
    "import time\n",
    "# od 3 jer tablica počinje od 3 indexa do len +3 \n",
    "for i in range(3,len(df.Date)+3):\n",
    "    # najprije u time.struct_time touple format\n",
    "    df.Date[i]=time.strptime(df.Date[i],\"%B %d %Y\")\n",
    "    # pa u %Y-%m-%d format\n",
    "    df.Date[i]=time.strftime(\"%Y-%m-%d\",df.Date[i])"
   ]
  },
  {
   "cell_type": "code",
   "execution_count": 290,
   "id": "85124cbc",
   "metadata": {},
   "outputs": [
    {
     "data": {
      "text/html": [
       "<div>\n",
       "<style scoped>\n",
       "    .dataframe tbody tr th:only-of-type {\n",
       "        vertical-align: middle;\n",
       "    }\n",
       "\n",
       "    .dataframe tbody tr th {\n",
       "        vertical-align: top;\n",
       "    }\n",
       "\n",
       "    .dataframe thead th {\n",
       "        text-align: right;\n",
       "    }\n",
       "</style>\n",
       "<table border=\"1\" class=\"dataframe\">\n",
       "  <thead>\n",
       "    <tr style=\"text-align: right;\">\n",
       "      <th></th>\n",
       "      <th>Date</th>\n",
       "      <th>subject</th>\n",
       "    </tr>\n",
       "  </thead>\n",
       "  <tbody>\n",
       "    <tr>\n",
       "      <th>3</th>\n",
       "      <td>2023-01-24</td>\n",
       "      <td>investment in bitcoin should be short term or ...</td>\n",
       "    </tr>\n",
       "    <tr>\n",
       "      <th>4</th>\n",
       "      <td>2023-01-23</td>\n",
       "      <td>Bitcoin increased my mental awareness</td>\n",
       "    </tr>\n",
       "    <tr>\n",
       "      <th>5</th>\n",
       "      <td>2023-01-23</td>\n",
       "      <td>Bitcoin's freedom is Absolute!</td>\n",
       "    </tr>\n",
       "    <tr>\n",
       "      <th>6</th>\n",
       "      <td>2023-01-23</td>\n",
       "      <td>Banks do not want bitcoin to become popular</td>\n",
       "    </tr>\n",
       "    <tr>\n",
       "      <th>7</th>\n",
       "      <td>2023-01-23</td>\n",
       "      <td>Giving bitcoin awareness for easy adoption in ...</td>\n",
       "    </tr>\n",
       "    <tr>\n",
       "      <th>...</th>\n",
       "      <td>...</td>\n",
       "      <td>...</td>\n",
       "    </tr>\n",
       "    <tr>\n",
       "      <th>13355</th>\n",
       "      <td>2017-10-11</td>\n",
       "      <td>Any App that generates bitcoin</td>\n",
       "    </tr>\n",
       "    <tr>\n",
       "      <th>13356</th>\n",
       "      <td>2017-10-11</td>\n",
       "      <td>Bitcoin-endures-instantaneous-flash-crash-on-m...</td>\n",
       "    </tr>\n",
       "    <tr>\n",
       "      <th>13357</th>\n",
       "      <td>2017-10-11</td>\n",
       "      <td>Did hear that news about Russia way to block c...</td>\n",
       "    </tr>\n",
       "    <tr>\n",
       "      <th>13358</th>\n",
       "      <td>2017-10-11</td>\n",
       "      <td>State Melbourne University plans to inegrate a...</td>\n",
       "    </tr>\n",
       "    <tr>\n",
       "      <th>13359</th>\n",
       "      <td>2017-10-11</td>\n",
       "      <td>NaN</td>\n",
       "    </tr>\n",
       "  </tbody>\n",
       "</table>\n",
       "<p>13357 rows × 2 columns</p>\n",
       "</div>"
      ],
      "text/plain": [
       "             Date                                            subject\n",
       "3      2023-01-24  investment in bitcoin should be short term or ...\n",
       "4      2023-01-23              Bitcoin increased my mental awareness\n",
       "5      2023-01-23                     Bitcoin's freedom is Absolute!\n",
       "6      2023-01-23        Banks do not want bitcoin to become popular\n",
       "7      2023-01-23  Giving bitcoin awareness for easy adoption in ...\n",
       "...           ...                                                ...\n",
       "13355  2017-10-11                     Any App that generates bitcoin\n",
       "13356  2017-10-11  Bitcoin-endures-instantaneous-flash-crash-on-m...\n",
       "13357  2017-10-11  Did hear that news about Russia way to block c...\n",
       "13358  2017-10-11  State Melbourne University plans to inegrate a...\n",
       "13359  2017-10-11                                                NaN\n",
       "\n",
       "[13357 rows x 2 columns]"
      ]
     },
     "execution_count": 290,
     "metadata": {},
     "output_type": "execute_result"
    }
   ],
   "source": [
    "df"
   ]
  },
  {
   "cell_type": "code",
   "execution_count": 291,
   "id": "63fe6eb1",
   "metadata": {},
   "outputs": [],
   "source": [
    "df=df.set_index('Date')"
   ]
  },
  {
   "cell_type": "code",
   "execution_count": 292,
   "id": "d941d779",
   "metadata": {},
   "outputs": [],
   "source": [
    "df=df.iloc[::-1]"
   ]
  },
  {
   "cell_type": "code",
   "execution_count": 293,
   "id": "a146bc67",
   "metadata": {},
   "outputs": [],
   "source": [
    "# potrebno je opet zadati brojevne indexe jer ako su\n",
    "# datumi postavljeni za index stupac ne prepoznaju, postavljaju se \n",
    "# kao zasebni stupac\n",
    "df=df.reset_index()"
   ]
  },
  {
   "cell_type": "code",
   "execution_count": 294,
   "id": "1c570d72",
   "metadata": {},
   "outputs": [],
   "source": [
    "# pretvaranje dobivene tablice u listu\n",
    "df_list = df.to_dict('records')"
   ]
  },
  {
   "cell_type": "markdown",
   "id": "2c885e59-0476-4b5a-965c-be6fa0511c60",
   "metadata": {},
   "source": [
    "#### postavljanje datuma kao glavnog ključa koji sadrži listu tema za taj dan"
   ]
  },
  {
   "cell_type": "code",
   "execution_count": 295,
   "id": "0c97e3f5",
   "metadata": {},
   "outputs": [],
   "source": [
    "teme={}\n",
    "for dic in df_list:\n",
    "    datum=dic[\"Date\"]\n",
    "    if datum not in teme:\n",
    "        teme[datum]=dict(teme_list=list())\n",
    "    tema=dic[\"subject\"]\n",
    "    teme[datum][\"teme_list\"].append(tema)"
   ]
  },
  {
   "cell_type": "markdown",
   "id": "547a3b30-04cb-459d-a09e-e77126c21fd6",
   "metadata": {},
   "source": [
    "### Uvoz bilblioteke Transformers\n",
    "* modul `pipeline` omogućuje upotrebu osnovnog deep learning modela za analizu teksta\n",
    "* deep learning model `sentiment-analysis` analizira tekst i vraća rezulte u brojevnom obliku\n",
    "* ključevi dict-a su `label` koji za vrijednost ima polaritet (Positive/Negative) i score koji označuje rezultat od 0-1 i "
   ]
  },
  {
   "cell_type": "code",
   "execution_count": 296,
   "id": "2dfe4f1a",
   "metadata": {},
   "outputs": [
    {
     "name": "stderr",
     "output_type": "stream",
     "text": [
      "No model was supplied, defaulted to distilbert-base-uncased-finetuned-sst-2-english and revision af0f99b (https://huggingface.co/distilbert-base-uncased-finetuned-sst-2-english).\n",
      "Using a pipeline without specifying a model name and revision in production is not recommended.\n"
     ]
    },
    {
     "data": {
      "application/vnd.jupyter.widget-view+json": {
       "model_id": "49707a7e22c442e3b15a81c50b16668b",
       "version_major": 2,
       "version_minor": 0
      },
      "text/plain": [
       "Downloading config.json:   0%|          | 0.00/629 [00:00<?, ?B/s]"
      ]
     },
     "metadata": {},
     "output_type": "display_data"
    },
    {
     "name": "stderr",
     "output_type": "stream",
     "text": [
      "C:\\Users\\Loren\\anaconda3\\lib\\site-packages\\huggingface_hub\\file_download.py:133: UserWarning: `huggingface_hub` cache-system uses symlinks by default to efficiently store duplicated files but your machine does not support them in C:\\Users\\Loren\\.cache\\huggingface\\hub. Caching files will still work but in a degraded version that might require more space on your disk. This warning can be disabled by setting the `HF_HUB_DISABLE_SYMLINKS_WARNING` environment variable. For more details, see https://huggingface.co/docs/huggingface_hub/how-to-cache#limitations.\n",
      "To support symlinks on Windows, you either need to activate Developer Mode or to run Python as an administrator. In order to see activate developer mode, see this article: https://docs.microsoft.com/en-us/windows/apps/get-started/enable-your-device-for-development\n",
      "  warnings.warn(message)\n"
     ]
    },
    {
     "data": {
      "application/vnd.jupyter.widget-view+json": {
       "model_id": "ccd01b8dcfc845e8883c19f460a30660",
       "version_major": 2,
       "version_minor": 0
      },
      "text/plain": [
       "Downloading model.safetensors:   0%|          | 0.00/268M [00:00<?, ?B/s]"
      ]
     },
     "metadata": {},
     "output_type": "display_data"
    },
    {
     "name": "stderr",
     "output_type": "stream",
     "text": [
      "All PyTorch model weights were used when initializing TFDistilBertForSequenceClassification.\n",
      "\n",
      "All the weights of TFDistilBertForSequenceClassification were initialized from the PyTorch model.\n",
      "If your task is similar to the task the model of the checkpoint was trained on, you can already use TFDistilBertForSequenceClassification for predictions without further training.\n"
     ]
    },
    {
     "data": {
      "application/vnd.jupyter.widget-view+json": {
       "model_id": "7d3c99fd225b4e5db9dc49164d06b13d",
       "version_major": 2,
       "version_minor": 0
      },
      "text/plain": [
       "Downloading tokenizer_config.json:   0%|          | 0.00/48.0 [00:00<?, ?B/s]"
      ]
     },
     "metadata": {},
     "output_type": "display_data"
    },
    {
     "data": {
      "application/vnd.jupyter.widget-view+json": {
       "model_id": "069256ec63b24c82979d9807b4891d8c",
       "version_major": 2,
       "version_minor": 0
      },
      "text/plain": [
       "Downloading vocab.txt:   0%|          | 0.00/232k [00:00<?, ?B/s]"
      ]
     },
     "metadata": {},
     "output_type": "display_data"
    }
   ],
   "source": [
    "from transformers import pipeline\n",
    "sent_pipeline = pipeline(\"sentiment-analysis\")"
   ]
  },
  {
   "cell_type": "markdown",
   "id": "f0539332-594e-4c2c-9b2a-4af5bb4d9766",
   "metadata": {},
   "source": [
    "#### Izrada funkcije za analizu komentara\n",
    "* Ako je uneseni tekst unutar modela pozitvno orijetitan poput \"like\", \"great\", \"rise\", `label` će biti `POSITIVE`\n",
    "* Tekst poput \"hate\", \"collapse\", \"fallout\" će vratit vrijednost label ključa `NEGATIVE`  \n",
    "* Na osnovu tih vrijednosti se izrađuje funkcija, koja ako je label NEGATIVE vraća negativnu vrijednost rezultata\n",
    "* analiziranje teksta staje na 100 znakova unesenog teksta (`tekst[:100]`) kako bi se funkcija izvršila u što kraćem roku, što ubrzava izvođenje daljnjeg programskog koda \n",
    "* index [0] se postavlja jer je sentiment_pipeline vraća dictonary unutar liste, 0 je prvi element liste"
   ]
  },
  {
   "cell_type": "code",
   "execution_count": 301,
   "id": "78610244",
   "metadata": {},
   "outputs": [],
   "source": [
    "def analiza_sent(tekst):\n",
    "    tema=sent_pipeline(tekst[:100])[0]\n",
    "    rezultat=tema[\"score\"]\n",
    "    polaritet=tema[\"label\"]\n",
    "    if polaritet==\"NEGATIVE\":\n",
    "        rezultat*=-1\n",
    "    return rezultat"
   ]
  },
  {
   "cell_type": "code",
   "execution_count": 305,
   "id": "370a6b59",
   "metadata": {},
   "outputs": [],
   "source": [
    "rez_transf={}\n",
    "for dat in teme:\n",
    "    lista_tema = teme[dat][\"teme_list\"]\n",
    "    rez_transf[dat]=dict(broj_tema=len(lista_tema), rezultati=list())\n",
    "    for tema in lista_tema:\n",
    "        rez_transf[dat][\"rezultati\"].append(analiza_sent(str(tema)))"
   ]
  },
  {
   "cell_type": "code",
   "execution_count": 316,
   "id": "71746e17",
   "metadata": {},
   "outputs": [],
   "source": [
    "# funkcije za odvajanje pozitvinih od negativnih komentara\n",
    "def pozitivni(lista):\n",
    "    return [br for br in lista if br >= 0]\n",
    "\n",
    "def negativni(lista):\n",
    "    return [br for br in lista if br<0]"
   ]
  },
  {
   "cell_type": "code",
   "execution_count": 317,
   "id": "0cff57a8",
   "metadata": {},
   "outputs": [],
   "source": [
    "end_transf={}\n",
    "\n",
    "for k in rez_transf:\n",
    "    rez=rez_transf[k][\"rezultati\"]\n",
    "    end_transf[k]=dict(broj_tema=rez_transf[k][\"broj_tema\"],avg_rezultata=float,\n",
    "                       posto_poz=float,posto_neg=float)\n",
    "    end_k=end_transf[k]\n",
    "    end_k[\"avg_rezultata\"]=sum(rez)/len(rez) \n",
    "    end_k[\"posto_poz\"]=len(pozitivni(rez))/len(rez)\n",
    "    end_k[\"posto_neg\"]=len(negativni(rez))/len(rez)"
   ]
  },
  {
   "cell_type": "code",
   "execution_count": 333,
   "id": "bdca07b5",
   "metadata": {},
   "outputs": [
    {
     "data": {
      "text/plain": [
       "1410"
      ]
     },
     "execution_count": 333,
     "metadata": {},
     "output_type": "execute_result"
    }
   ],
   "source": [
    "len(end_transf)"
   ]
  },
  {
   "cell_type": "markdown",
   "id": "214389c6-9d54-433d-b585-42197bf12081",
   "metadata": {},
   "source": [
    "## Prebacivanje rezultata u pandas df"
   ]
  },
  {
   "cell_type": "code",
   "execution_count": 318,
   "id": "802b1e89",
   "metadata": {},
   "outputs": [],
   "source": [
    "# pretvarnje end_transf dictionary-a u tablicu\n",
    "df_transf=pd.DataFrame.from_dict(end_transf,orient=\"index\")"
   ]
  },
  {
   "cell_type": "code",
   "execution_count": 319,
   "id": "d38b6cb3",
   "metadata": {},
   "outputs": [],
   "source": [
    "# Postavljanje datetime index-a\n",
    "df_transf.index=pd.to_datetime(df_transf.index)"
   ]
  },
  {
   "cell_type": "code",
   "execution_count": 326,
   "id": "c42eb6ef",
   "metadata": {},
   "outputs": [
    {
     "data": {
      "text/html": [
       "<div>\n",
       "<style scoped>\n",
       "    .dataframe tbody tr th:only-of-type {\n",
       "        vertical-align: middle;\n",
       "    }\n",
       "\n",
       "    .dataframe tbody tr th {\n",
       "        vertical-align: top;\n",
       "    }\n",
       "\n",
       "    .dataframe thead th {\n",
       "        text-align: right;\n",
       "    }\n",
       "</style>\n",
       "<table border=\"1\" class=\"dataframe\">\n",
       "  <thead>\n",
       "    <tr style=\"text-align: right;\">\n",
       "      <th></th>\n",
       "      <th>broj_tema</th>\n",
       "      <th>avg_rezultata</th>\n",
       "      <th>posto_poz</th>\n",
       "      <th>posto_neg</th>\n",
       "    </tr>\n",
       "  </thead>\n",
       "  <tbody>\n",
       "    <tr>\n",
       "      <th>2017-10-11</th>\n",
       "      <td>13</td>\n",
       "      <td>-0.534152</td>\n",
       "      <td>0.230769</td>\n",
       "      <td>0.769231</td>\n",
       "    </tr>\n",
       "    <tr>\n",
       "      <th>2017-10-12</th>\n",
       "      <td>27</td>\n",
       "      <td>-0.539031</td>\n",
       "      <td>0.222222</td>\n",
       "      <td>0.777778</td>\n",
       "    </tr>\n",
       "    <tr>\n",
       "      <th>2017-10-16</th>\n",
       "      <td>25</td>\n",
       "      <td>-0.622153</td>\n",
       "      <td>0.160000</td>\n",
       "      <td>0.840000</td>\n",
       "    </tr>\n",
       "    <tr>\n",
       "      <th>2017-10-17</th>\n",
       "      <td>15</td>\n",
       "      <td>-0.626765</td>\n",
       "      <td>0.200000</td>\n",
       "      <td>0.800000</td>\n",
       "    </tr>\n",
       "    <tr>\n",
       "      <th>2017-10-18</th>\n",
       "      <td>1</td>\n",
       "      <td>-0.998893</td>\n",
       "      <td>0.000000</td>\n",
       "      <td>1.000000</td>\n",
       "    </tr>\n",
       "    <tr>\n",
       "      <th>...</th>\n",
       "      <td>...</td>\n",
       "      <td>...</td>\n",
       "      <td>...</td>\n",
       "      <td>...</td>\n",
       "    </tr>\n",
       "    <tr>\n",
       "      <th>2023-01-19</th>\n",
       "      <td>4</td>\n",
       "      <td>-0.009539</td>\n",
       "      <td>0.500000</td>\n",
       "      <td>0.500000</td>\n",
       "    </tr>\n",
       "    <tr>\n",
       "      <th>2023-01-20</th>\n",
       "      <td>4</td>\n",
       "      <td>-0.487088</td>\n",
       "      <td>0.250000</td>\n",
       "      <td>0.750000</td>\n",
       "    </tr>\n",
       "    <tr>\n",
       "      <th>2023-01-21</th>\n",
       "      <td>2</td>\n",
       "      <td>0.002150</td>\n",
       "      <td>0.500000</td>\n",
       "      <td>0.500000</td>\n",
       "    </tr>\n",
       "    <tr>\n",
       "      <th>2023-01-23</th>\n",
       "      <td>6</td>\n",
       "      <td>0.323947</td>\n",
       "      <td>0.666667</td>\n",
       "      <td>0.333333</td>\n",
       "    </tr>\n",
       "    <tr>\n",
       "      <th>2023-01-24</th>\n",
       "      <td>1</td>\n",
       "      <td>-0.994406</td>\n",
       "      <td>0.000000</td>\n",
       "      <td>1.000000</td>\n",
       "    </tr>\n",
       "  </tbody>\n",
       "</table>\n",
       "<p>1410 rows × 4 columns</p>\n",
       "</div>"
      ],
      "text/plain": [
       "            broj_tema  avg_rezultata  posto_poz  posto_neg\n",
       "2017-10-11         13      -0.534152   0.230769   0.769231\n",
       "2017-10-12         27      -0.539031   0.222222   0.777778\n",
       "2017-10-16         25      -0.622153   0.160000   0.840000\n",
       "2017-10-17         15      -0.626765   0.200000   0.800000\n",
       "2017-10-18          1      -0.998893   0.000000   1.000000\n",
       "...               ...            ...        ...        ...\n",
       "2023-01-19          4      -0.009539   0.500000   0.500000\n",
       "2023-01-20          4      -0.487088   0.250000   0.750000\n",
       "2023-01-21          2       0.002150   0.500000   0.500000\n",
       "2023-01-23          6       0.323947   0.666667   0.333333\n",
       "2023-01-24          1      -0.994406   0.000000   1.000000\n",
       "\n",
       "[1410 rows x 4 columns]"
      ]
     },
     "execution_count": 326,
     "metadata": {},
     "output_type": "execute_result"
    }
   ],
   "source": [
    "df_transf"
   ]
  },
  {
   "cell_type": "code",
   "execution_count": 327,
   "id": "4e9a3876",
   "metadata": {},
   "outputs": [],
   "source": [
    "datumi=pd.date_range(start=\"10-09-2017\",end=\"01-23-2023\")"
   ]
  },
  {
   "cell_type": "code",
   "execution_count": 328,
   "id": "74ea3d90-7527-4c5a-b36b-81ced2e10bbf",
   "metadata": {},
   "outputs": [],
   "source": [
    "# definiranje varijble koja će postati novi index\n",
    "# postavljnje početnog i završnog datuma\n",
    "datumi=pd.date_range(start=last_year_date,end=today_date)"
   ]
  },
  {
   "cell_type": "code",
   "execution_count": 322,
   "id": "6e4c134f-714d-4cd6-ac56-1cde7b420d58",
   "metadata": {},
   "outputs": [],
   "source": [
    "# reindeksirenje i ispunjavanje nepostojećih datuma s vrijednostima 0\n",
    "df_reindex=df_transf.reindex(datumi,fill_value=0)"
   ]
  },
  {
   "cell_type": "code",
   "execution_count": 334,
   "id": "a17720d0",
   "metadata": {},
   "outputs": [
    {
     "data": {
      "text/plain": [
       "367"
      ]
     },
     "execution_count": 334,
     "metadata": {},
     "output_type": "execute_result"
    }
   ],
   "source": [
    "df_reindex"
   ]
  },
  {
   "cell_type": "code",
   "execution_count": 338,
   "id": "45e39511",
   "metadata": {},
   "outputs": [],
   "source": [
    "# upotreba rolling funkcije za pronalazak srednje vrijednosti posljednjih 7 dana\n",
    "rolling_transf=df_reindex.rolling(7).mean()"
   ]
  },
  {
   "cell_type": "code",
   "execution_count": 339,
   "id": "1beb8bad",
   "metadata": {},
   "outputs": [],
   "source": [
    "# izbacivanje NaN vrijednosti koje su kreirane rolling funkcijom\n",
    "rolling_transf=rolling_transf.dropna()"
   ]
  },
  {
   "cell_type": "code",
   "execution_count": 340,
   "id": "1d09f3d8",
   "metadata": {},
   "outputs": [],
   "source": [
    "# Prebacivanje konačne tablice u .csv dokument\n",
    "rolling_transf.to_csv(\"Transf_roll7_new.csv\")"
   ]
  },
  {
   "cell_type": "markdown",
   "id": "c122e9f2-b40c-4ab0-8649-798719508b67",
   "metadata": {},
   "source": [
    "### Upotreba funkcije rolling\n",
    "* rolling omogućuje izračun srednje vrijednosti podataka u posljednjih 7 dana srednja vrijednost od 1. do 7. reda zapisan je u 7. red, 8 red ima zapisanu srednju vrijednost od 2. do 8. reda i tako do kraj tablice\n",
    "* prvih 7 redova ima NaN vrijednosti je nemaju prethodnih podataka za izračun pa ih je potrebno ukloniti"
   ]
  }
 ],
 "metadata": {
  "kernelspec": {
   "display_name": "Python 3 (ipykernel)",
   "language": "python",
   "name": "python3"
  },
  "language_info": {
   "codemirror_mode": {
    "name": "ipython",
    "version": 3
   },
   "file_extension": ".py",
   "mimetype": "text/x-python",
   "name": "python",
   "nbconvert_exporter": "python",
   "pygments_lexer": "ipython3",
   "version": "3.9.13"
  }
 },
 "nbformat": 4,
 "nbformat_minor": 5
}
